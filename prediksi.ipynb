{
 "cells": [
  {
   "cell_type": "code",
   "execution_count": 7,
   "id": "a9d22f07",
   "metadata": {},
   "outputs": [],
   "source": [
    "import pandas as pd\n",
    "import matplotlib.pyplot as plt"
   ]
  },
  {
   "cell_type": "code",
   "execution_count": 3,
   "id": "9981e0b9",
   "metadata": {},
   "outputs": [],
   "source": [
    "df = pd.read_csv(r\"C:\\Users\\wilsen\\OneDrive\\Desktop\\website bersama\\data_set\\personality_dataset.csv\")"
   ]
  },
  {
   "cell_type": "code",
   "execution_count": 4,
   "id": "460ecafd",
   "metadata": {},
   "outputs": [
    {
     "data": {
      "application/vnd.microsoft.datawrangler.viewer.v0+json": {
       "columns": [
        {
         "name": "index",
         "rawType": "int64",
         "type": "integer"
        },
        {
         "name": "Time_spent_Alone",
         "rawType": "float64",
         "type": "float"
        },
        {
         "name": "Stage_fear",
         "rawType": "object",
         "type": "unknown"
        },
        {
         "name": "Social_event_attendance",
         "rawType": "float64",
         "type": "float"
        },
        {
         "name": "Going_outside",
         "rawType": "float64",
         "type": "float"
        },
        {
         "name": "Drained_after_socializing",
         "rawType": "object",
         "type": "unknown"
        },
        {
         "name": "Friends_circle_size",
         "rawType": "float64",
         "type": "float"
        },
        {
         "name": "Post_frequency",
         "rawType": "float64",
         "type": "float"
        },
        {
         "name": "Personality",
         "rawType": "object",
         "type": "string"
        }
       ],
       "ref": "2cd8eac7-85c2-46c6-a5c8-8c0daf8ebf2d",
       "rows": [
        [
         "0",
         "4.0",
         "No",
         "4.0",
         "6.0",
         "No",
         "13.0",
         "5.0",
         "Extrovert"
        ],
        [
         "1",
         "9.0",
         "Yes",
         "0.0",
         "0.0",
         "Yes",
         "0.0",
         "3.0",
         "Introvert"
        ],
        [
         "2",
         "9.0",
         "Yes",
         "1.0",
         "2.0",
         "Yes",
         "5.0",
         "2.0",
         "Introvert"
        ],
        [
         "3",
         "0.0",
         "No",
         "6.0",
         "7.0",
         "No",
         "14.0",
         "8.0",
         "Extrovert"
        ],
        [
         "4",
         "3.0",
         "No",
         "9.0",
         "4.0",
         "No",
         "8.0",
         "5.0",
         "Extrovert"
        ],
        [
         "5",
         "1.0",
         "No",
         "7.0",
         "5.0",
         "No",
         "6.0",
         "6.0",
         "Extrovert"
        ],
        [
         "6",
         "4.0",
         "No",
         "9.0",
         null,
         "No",
         "7.0",
         "7.0",
         "Extrovert"
        ],
        [
         "7",
         "2.0",
         "No",
         "8.0",
         "4.0",
         "No",
         "7.0",
         "8.0",
         "Extrovert"
        ],
        [
         "8",
         "10.0",
         "Yes",
         "1.0",
         "3.0",
         "Yes",
         "0.0",
         "3.0",
         "Introvert"
        ],
        [
         "9",
         "0.0",
         "No",
         "8.0",
         "6.0",
         "No",
         "13.0",
         "8.0",
         "Extrovert"
        ],
        [
         "10",
         "3.0",
         "No",
         "9.0",
         "6.0",
         "No",
         "15.0",
         "5.0",
         "Extrovert"
        ],
        [
         "11",
         "10.0",
         "Yes",
         "3.0",
         "1.0",
         "Yes",
         "4.0",
         "0.0",
         "Introvert"
        ],
        [
         "12",
         "3.0",
         "No",
         "6.0",
         "7.0",
         "No",
         "14.0",
         "10.0",
         "Extrovert"
        ],
        [
         "13",
         "3.0",
         "No",
         "6.0",
         "4.0",
         "No",
         "10.0",
         "7.0",
         "Extrovert"
        ],
        [
         "14",
         "6.0",
         "Yes",
         "3.0",
         "0.0",
         "Yes",
         "1.0",
         "3.0",
         "Introvert"
        ],
        [
         "15",
         "0.0",
         "No",
         "4.0",
         "4.0",
         "No",
         "8.0",
         "8.0",
         "Extrovert"
        ],
        [
         "16",
         "9.0",
         "Yes",
         "0.0",
         "0.0",
         "Yes",
         "0.0",
         "0.0",
         "Introvert"
        ],
        [
         "17",
         "1.0",
         "No",
         "5.0",
         "6.0",
         "No",
         "10.0",
         "4.0",
         "Extrovert"
        ],
        [
         "18",
         "5.0",
         "Yes",
         "3.0",
         "0.0",
         "Yes",
         "4.0",
         "2.0",
         "Introvert"
        ],
        [
         "19",
         "1.0",
         "No",
         "7.0",
         "5.0",
         "No",
         "12.0",
         "5.0",
         "Extrovert"
        ],
        [
         "20",
         "10.0",
         "Yes",
         "3.0",
         "1.0",
         "Yes",
         "2.0",
         "1.0",
         "Introvert"
        ],
        [
         "21",
         "2.0",
         "No",
         "8.0",
         "4.0",
         "No",
         "13.0",
         "6.0",
         "Extrovert"
        ],
        [
         "22",
         "1.0",
         "No",
         "6.0",
         "7.0",
         "No",
         "14.0",
         "9.0",
         "Extrovert"
        ],
        [
         "23",
         "9.0",
         "Yes",
         "2.0",
         "2.0",
         "Yes",
         "1.0",
         "0.0",
         "Introvert"
        ],
        [
         "24",
         "2.0",
         "No",
         "8.0",
         "7.0",
         "No",
         "15.0",
         "6.0",
         "Extrovert"
        ],
        [
         "25",
         "2.0",
         "No",
         "8.0",
         "4.0",
         "No",
         "11.0",
         "9.0",
         "Extrovert"
        ],
        [
         "26",
         "0.0",
         "No",
         "6.0",
         "4.0",
         "No",
         "14.0",
         "9.0",
         "Extrovert"
        ],
        [
         "27",
         "4.0",
         "No",
         "5.0",
         "7.0",
         "No",
         "6.0",
         "6.0",
         "Extrovert"
        ],
        [
         "28",
         "2.0",
         "No",
         "6.0",
         "4.0",
         "No",
         "12.0",
         "10.0",
         "Extrovert"
        ],
        [
         "29",
         "0.0",
         "No",
         "9.0",
         "4.0",
         "No",
         "14.0",
         "7.0",
         "Extrovert"
        ],
        [
         "30",
         "4.0",
         "No",
         "10.0",
         "4.0",
         "No",
         "9.0",
         "10.0",
         "Extrovert"
        ],
        [
         "31",
         "4.0",
         "No",
         "7.0",
         "7.0",
         "No",
         "7.0",
         "9.0",
         "Extrovert"
        ],
        [
         "32",
         "5.0",
         "Yes",
         "3.0",
         "3.0",
         "Yes",
         "0.0",
         "1.0",
         "Introvert"
        ],
        [
         "33",
         "8.0",
         "Yes",
         "3.0",
         "3.0",
         null,
         "2.0",
         "0.0",
         "Introvert"
        ],
        [
         "34",
         "10.0",
         "Yes",
         "1.0",
         "1.0",
         "Yes",
         "3.0",
         "2.0",
         "Introvert"
        ],
        [
         "35",
         "2.0",
         "No",
         "6.0",
         "5.0",
         "No",
         "14.0",
         "9.0",
         "Extrovert"
        ],
        [
         "36",
         "1.0",
         "No",
         "4.0",
         "4.0",
         "No",
         "15.0",
         "4.0",
         "Extrovert"
        ],
        [
         "37",
         "1.0",
         "No",
         "6.0",
         "4.0",
         "No",
         "10.0",
         "5.0",
         "Extrovert"
        ],
        [
         "38",
         "10.0",
         "Yes",
         "1.0",
         "2.0",
         "Yes",
         "2.0",
         "0.0",
         "Introvert"
        ],
        [
         "39",
         "5.0",
         "Yes",
         "0.0",
         "1.0",
         "Yes",
         "5.0",
         "0.0",
         "Introvert"
        ],
        [
         "40",
         "3.0",
         "No",
         "5.0",
         "5.0",
         "No",
         "13.0",
         "5.0",
         "Extrovert"
        ],
        [
         "41",
         "1.0",
         "No",
         "4.0",
         "5.0",
         "No",
         null,
         "10.0",
         "Extrovert"
        ],
        [
         "42",
         "9.0",
         "Yes",
         "1.0",
         "3.0",
         "Yes",
         "2.0",
         "2.0",
         "Introvert"
        ],
        [
         "43",
         "6.0",
         "Yes",
         "2.0",
         "2.0",
         "Yes",
         "2.0",
         "1.0",
         "Introvert"
        ],
        [
         "44",
         "8.0",
         "Yes",
         "2.0",
         "1.0",
         "Yes",
         "5.0",
         "3.0",
         "Introvert"
        ],
        [
         "45",
         "0.0",
         "No",
         "8.0",
         "6.0",
         "No",
         "6.0",
         "10.0",
         "Extrovert"
        ],
        [
         "46",
         "4.0",
         "No",
         "7.0",
         "4.0",
         "No",
         "13.0",
         "10.0",
         "Extrovert"
        ],
        [
         "47",
         "10.0",
         "Yes",
         "1.0",
         "2.0",
         "Yes",
         "2.0",
         "0.0",
         "Introvert"
        ],
        [
         "48",
         "5.0",
         "Yes",
         "1.0",
         "3.0",
         "Yes",
         "3.0",
         "3.0",
         "Introvert"
        ],
        [
         "49",
         "1.0",
         "No",
         "5.0",
         "6.0",
         "No",
         "8.0",
         "10.0",
         "Extrovert"
        ]
       ],
       "shape": {
        "columns": 8,
        "rows": 2900
       }
      },
      "text/html": [
       "<div>\n",
       "<style scoped>\n",
       "    .dataframe tbody tr th:only-of-type {\n",
       "        vertical-align: middle;\n",
       "    }\n",
       "\n",
       "    .dataframe tbody tr th {\n",
       "        vertical-align: top;\n",
       "    }\n",
       "\n",
       "    .dataframe thead th {\n",
       "        text-align: right;\n",
       "    }\n",
       "</style>\n",
       "<table border=\"1\" class=\"dataframe\">\n",
       "  <thead>\n",
       "    <tr style=\"text-align: right;\">\n",
       "      <th></th>\n",
       "      <th>Time_spent_Alone</th>\n",
       "      <th>Stage_fear</th>\n",
       "      <th>Social_event_attendance</th>\n",
       "      <th>Going_outside</th>\n",
       "      <th>Drained_after_socializing</th>\n",
       "      <th>Friends_circle_size</th>\n",
       "      <th>Post_frequency</th>\n",
       "      <th>Personality</th>\n",
       "    </tr>\n",
       "  </thead>\n",
       "  <tbody>\n",
       "    <tr>\n",
       "      <th>0</th>\n",
       "      <td>4.0</td>\n",
       "      <td>No</td>\n",
       "      <td>4.0</td>\n",
       "      <td>6.0</td>\n",
       "      <td>No</td>\n",
       "      <td>13.0</td>\n",
       "      <td>5.0</td>\n",
       "      <td>Extrovert</td>\n",
       "    </tr>\n",
       "    <tr>\n",
       "      <th>1</th>\n",
       "      <td>9.0</td>\n",
       "      <td>Yes</td>\n",
       "      <td>0.0</td>\n",
       "      <td>0.0</td>\n",
       "      <td>Yes</td>\n",
       "      <td>0.0</td>\n",
       "      <td>3.0</td>\n",
       "      <td>Introvert</td>\n",
       "    </tr>\n",
       "    <tr>\n",
       "      <th>2</th>\n",
       "      <td>9.0</td>\n",
       "      <td>Yes</td>\n",
       "      <td>1.0</td>\n",
       "      <td>2.0</td>\n",
       "      <td>Yes</td>\n",
       "      <td>5.0</td>\n",
       "      <td>2.0</td>\n",
       "      <td>Introvert</td>\n",
       "    </tr>\n",
       "    <tr>\n",
       "      <th>3</th>\n",
       "      <td>0.0</td>\n",
       "      <td>No</td>\n",
       "      <td>6.0</td>\n",
       "      <td>7.0</td>\n",
       "      <td>No</td>\n",
       "      <td>14.0</td>\n",
       "      <td>8.0</td>\n",
       "      <td>Extrovert</td>\n",
       "    </tr>\n",
       "    <tr>\n",
       "      <th>4</th>\n",
       "      <td>3.0</td>\n",
       "      <td>No</td>\n",
       "      <td>9.0</td>\n",
       "      <td>4.0</td>\n",
       "      <td>No</td>\n",
       "      <td>8.0</td>\n",
       "      <td>5.0</td>\n",
       "      <td>Extrovert</td>\n",
       "    </tr>\n",
       "    <tr>\n",
       "      <th>...</th>\n",
       "      <td>...</td>\n",
       "      <td>...</td>\n",
       "      <td>...</td>\n",
       "      <td>...</td>\n",
       "      <td>...</td>\n",
       "      <td>...</td>\n",
       "      <td>...</td>\n",
       "      <td>...</td>\n",
       "    </tr>\n",
       "    <tr>\n",
       "      <th>2895</th>\n",
       "      <td>3.0</td>\n",
       "      <td>No</td>\n",
       "      <td>7.0</td>\n",
       "      <td>6.0</td>\n",
       "      <td>No</td>\n",
       "      <td>6.0</td>\n",
       "      <td>6.0</td>\n",
       "      <td>Extrovert</td>\n",
       "    </tr>\n",
       "    <tr>\n",
       "      <th>2896</th>\n",
       "      <td>3.0</td>\n",
       "      <td>No</td>\n",
       "      <td>8.0</td>\n",
       "      <td>3.0</td>\n",
       "      <td>No</td>\n",
       "      <td>14.0</td>\n",
       "      <td>9.0</td>\n",
       "      <td>Extrovert</td>\n",
       "    </tr>\n",
       "    <tr>\n",
       "      <th>2897</th>\n",
       "      <td>4.0</td>\n",
       "      <td>Yes</td>\n",
       "      <td>1.0</td>\n",
       "      <td>1.0</td>\n",
       "      <td>Yes</td>\n",
       "      <td>4.0</td>\n",
       "      <td>0.0</td>\n",
       "      <td>Introvert</td>\n",
       "    </tr>\n",
       "    <tr>\n",
       "      <th>2898</th>\n",
       "      <td>11.0</td>\n",
       "      <td>Yes</td>\n",
       "      <td>1.0</td>\n",
       "      <td>NaN</td>\n",
       "      <td>Yes</td>\n",
       "      <td>2.0</td>\n",
       "      <td>0.0</td>\n",
       "      <td>Introvert</td>\n",
       "    </tr>\n",
       "    <tr>\n",
       "      <th>2899</th>\n",
       "      <td>3.0</td>\n",
       "      <td>No</td>\n",
       "      <td>6.0</td>\n",
       "      <td>6.0</td>\n",
       "      <td>No</td>\n",
       "      <td>6.0</td>\n",
       "      <td>9.0</td>\n",
       "      <td>Extrovert</td>\n",
       "    </tr>\n",
       "  </tbody>\n",
       "</table>\n",
       "<p>2900 rows × 8 columns</p>\n",
       "</div>"
      ],
      "text/plain": [
       "      Time_spent_Alone Stage_fear  Social_event_attendance  Going_outside  \\\n",
       "0                  4.0         No                      4.0            6.0   \n",
       "1                  9.0        Yes                      0.0            0.0   \n",
       "2                  9.0        Yes                      1.0            2.0   \n",
       "3                  0.0         No                      6.0            7.0   \n",
       "4                  3.0         No                      9.0            4.0   \n",
       "...                ...        ...                      ...            ...   \n",
       "2895               3.0         No                      7.0            6.0   \n",
       "2896               3.0         No                      8.0            3.0   \n",
       "2897               4.0        Yes                      1.0            1.0   \n",
       "2898              11.0        Yes                      1.0            NaN   \n",
       "2899               3.0         No                      6.0            6.0   \n",
       "\n",
       "     Drained_after_socializing  Friends_circle_size  Post_frequency  \\\n",
       "0                           No                 13.0             5.0   \n",
       "1                          Yes                  0.0             3.0   \n",
       "2                          Yes                  5.0             2.0   \n",
       "3                           No                 14.0             8.0   \n",
       "4                           No                  8.0             5.0   \n",
       "...                        ...                  ...             ...   \n",
       "2895                        No                  6.0             6.0   \n",
       "2896                        No                 14.0             9.0   \n",
       "2897                       Yes                  4.0             0.0   \n",
       "2898                       Yes                  2.0             0.0   \n",
       "2899                        No                  6.0             9.0   \n",
       "\n",
       "     Personality  \n",
       "0      Extrovert  \n",
       "1      Introvert  \n",
       "2      Introvert  \n",
       "3      Extrovert  \n",
       "4      Extrovert  \n",
       "...          ...  \n",
       "2895   Extrovert  \n",
       "2896   Extrovert  \n",
       "2897   Introvert  \n",
       "2898   Introvert  \n",
       "2899   Extrovert  \n",
       "\n",
       "[2900 rows x 8 columns]"
      ]
     },
     "execution_count": 4,
     "metadata": {},
     "output_type": "execute_result"
    }
   ],
   "source": [
    "df"
   ]
  },
  {
   "cell_type": "code",
   "execution_count": 6,
   "id": "8f5a8e89",
   "metadata": {},
   "outputs": [
    {
     "data": {
      "application/vnd.microsoft.datawrangler.viewer.v0+json": {
       "columns": [
        {
         "name": "index",
         "rawType": "object",
         "type": "string"
        },
        {
         "name": "0",
         "rawType": "int64",
         "type": "integer"
        }
       ],
       "ref": "ff3ce97e-cd78-411a-a332-e441b1aa9068",
       "rows": [
        [
         "Time_spent_Alone",
         "63"
        ],
        [
         "Stage_fear",
         "73"
        ],
        [
         "Social_event_attendance",
         "62"
        ],
        [
         "Going_outside",
         "66"
        ],
        [
         "Drained_after_socializing",
         "52"
        ],
        [
         "Friends_circle_size",
         "77"
        ],
        [
         "Post_frequency",
         "65"
        ],
        [
         "Personality",
         "0"
        ]
       ],
       "shape": {
        "columns": 1,
        "rows": 8
       }
      },
      "text/plain": [
       "Time_spent_Alone             63\n",
       "Stage_fear                   73\n",
       "Social_event_attendance      62\n",
       "Going_outside                66\n",
       "Drained_after_socializing    52\n",
       "Friends_circle_size          77\n",
       "Post_frequency               65\n",
       "Personality                   0\n",
       "dtype: int64"
      ]
     },
     "execution_count": 6,
     "metadata": {},
     "output_type": "execute_result"
    }
   ],
   "source": [
    "df.isnull().sum()"
   ]
  },
  {
   "cell_type": "code",
   "execution_count": null,
   "id": "32c8f2aa",
   "metadata": {},
   "outputs": [],
   "source": []
  },
  {
   "cell_type": "code",
   "execution_count": 13,
   "id": "aeeba3f1",
   "metadata": {},
   "outputs": [],
   "source": [
    "count_personality = (df[\"Personality\"].value_counts()).reset_index()"
   ]
  },
  {
   "cell_type": "code",
   "execution_count": 14,
   "id": "a3005ac7",
   "metadata": {},
   "outputs": [
    {
     "data": {
      "application/vnd.microsoft.datawrangler.viewer.v0+json": {
       "columns": [
        {
         "name": "index",
         "rawType": "int64",
         "type": "integer"
        },
        {
         "name": "Personality",
         "rawType": "object",
         "type": "string"
        },
        {
         "name": "count",
         "rawType": "int64",
         "type": "integer"
        }
       ],
       "ref": "951730bb-f9e8-4b0c-91a4-0937a432b594",
       "rows": [
        [
         "0",
         "Extrovert",
         "1491"
        ],
        [
         "1",
         "Introvert",
         "1409"
        ]
       ],
       "shape": {
        "columns": 2,
        "rows": 2
       }
      },
      "text/html": [
       "<div>\n",
       "<style scoped>\n",
       "    .dataframe tbody tr th:only-of-type {\n",
       "        vertical-align: middle;\n",
       "    }\n",
       "\n",
       "    .dataframe tbody tr th {\n",
       "        vertical-align: top;\n",
       "    }\n",
       "\n",
       "    .dataframe thead th {\n",
       "        text-align: right;\n",
       "    }\n",
       "</style>\n",
       "<table border=\"1\" class=\"dataframe\">\n",
       "  <thead>\n",
       "    <tr style=\"text-align: right;\">\n",
       "      <th></th>\n",
       "      <th>Personality</th>\n",
       "      <th>count</th>\n",
       "    </tr>\n",
       "  </thead>\n",
       "  <tbody>\n",
       "    <tr>\n",
       "      <th>0</th>\n",
       "      <td>Extrovert</td>\n",
       "      <td>1491</td>\n",
       "    </tr>\n",
       "    <tr>\n",
       "      <th>1</th>\n",
       "      <td>Introvert</td>\n",
       "      <td>1409</td>\n",
       "    </tr>\n",
       "  </tbody>\n",
       "</table>\n",
       "</div>"
      ],
      "text/plain": [
       "  Personality  count\n",
       "0   Extrovert   1491\n",
       "1   Introvert   1409"
      ]
     },
     "execution_count": 14,
     "metadata": {},
     "output_type": "execute_result"
    }
   ],
   "source": [
    "count_personality"
   ]
  },
  {
   "cell_type": "code",
   "execution_count": null,
   "id": "5308d7e4",
   "metadata": {},
   "outputs": [
    {
     "data": {
      "text/plain": [
       "<BarContainer object of 2 artists>"
      ]
     },
     "execution_count": 15,
     "metadata": {},
     "output_type": "execute_result"
    },
    {
     "data": {
      "image/png": "[encoded data removed]",
      "text/plain": [
       "<Figure size 640x480 with 1 Axes>"
      ]
     },
     "metadata": {},
     "output_type": "display_data"
    }
   ],
   "source": [
    "plt.bar(count_personality[\"Personality\"],count_personality[\"count\"], theme=)"
   ]
  }
 ],
 "metadata": {
  "kernelspec": {
   "display_name": ".venv",
   "language": "python",
   "name": "python3"
  },
  "language_info": {
   "codemirror_mode": {
    "name": "ipython",
    "version": 3
   },
   "file_extension": ".py",
   "mimetype": "text/x-python",
   "name": "python",
   "nbconvert_exporter": "python",
   "pygments_lexer": "ipython3",
   "version": "3.13.1"
  }
 },
 "nbformat": 4,
 "nbformat_minor": 5
}
